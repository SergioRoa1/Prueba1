{
 "cells": [
  {
   "cell_type": "markdown",
   "metadata": {},
   "source": [
    "## Proyecto diplomado"
   ]
  },
  {
   "cell_type": "markdown",
   "metadata": {},
   "source": [
    "Teniendo en cuenta el enfasís de mi carrera y la empresa en la cual trabajo actualmente, me interesan tres proyectos que\n",
    "puedo realizar en el diplomado. Por lo tanto, quisiera pedirles el favor de que me recomendarán cual es el que mejor se \n",
    "ajusta a los alcances del Syllabus.\n",
    "\n",
    "De antemano muchas gracias por su apoyo, ya que no conocia nada del este tipo de procesos."
   ]
  },
  {
   "cell_type": "markdown",
   "metadata": {},
   "source": [
    "# Primer proyecto"
   ]
  },
  {
   "cell_type": "markdown",
   "metadata": {},
   "source": [
    "En el ambito de mi trabajo se tiene que estar en diferentes partes del país haciendo inventarios forestales (son el conteo de arboles), pero en ocasiones no podemos acceder a ciertos lugares en los cuales no nos dejan ingresar los propietarios de los predios.\n",
    "\n",
    "Teniendo en cuenta que la vegetación principalmente responde a la temperatura y a la precipitación, este proyecto se enfocaría como lo veo yo, a partir de condiciones (climaticas) y la ubicación de individuos arboreos en áreas a las que si pudimos acceder, en poder estimar que especies como volumenes de madera podemos encontrar en las áreas que no pudimos censar.\n",
    "\n",
    "Muchas veces no tenemos suficiente información de entrada pero entiendo que hay modelos que pueden funcionar con pocos datos como el incluido en el programa Maxent (aunque este se utiliza para el modelamiento de nicho en áreas muy extensas)."
   ]
  },
  {
   "cell_type": "markdown",
   "metadata": {},
   "source": [
    "<figure>\n",
    "<center>\n",
    "<img src=\"C:/Users/seed-/OneDrive/Escritorio/INGETEC/San Felipe/Aprovechamiento forestal/ejemplo.jpg\" width=\"500\" height=\"400\" align=\"center\"/>\n",
    "</center>\n",
    "<figcaption>\n",
    "<p style=\"text-align:center\"> Ejemplo de distribución de datos, donde puntos indican zonas de censo y área de acercamiento zonas de no acceso</p>\n",
    "</figcaption>\n",
    "</figure>"
   ]
  },
  {
   "cell_type": "markdown",
   "metadata": {},
   "source": [
    "# Segundo proyecto"
   ]
  },
  {
   "cell_type": "markdown",
   "metadata": {},
   "source": [
    "Otro de los inconvenientes o reprocesos que tengo en mi trabajo es la interpretación de imagenes satelitales para la difinición de coberturas de la tierra. Actualmente existen herramientas de clasificación supervisada y nor supervisada en el programa ArcGis pero no es lo suficientemente precisa y me parece que una adición muy iportante sería la implementación de procesos basados en el diplomado (diferentes a los cluster que utilizar el programa mencionado anteriormente), con el fin de mejorar los resultados con cada trabajo realizado.\n",
    "\n",
    "Link de como funciona en Arcgis estos procesos: [Clasificación por Cluster](https://desktop.arcgis.com/es/arcmap/10.3/tools/spatial-analyst-toolbox/understanding-multivariate-classification.htm)"
   ]
  },
  {
   "cell_type": "markdown",
   "metadata": {},
   "source": [
    "# Tercer proyecto"
   ]
  },
  {
   "cell_type": "markdown",
   "metadata": {},
   "source": [
    "Otro de las posibles ideas que tengo para desarrollar en el diplomado es la identificación de especies de plantas, esto con el fin de aprovechar la base de datos de fotografías de especies que tiene la empresa y facilitar de cierta manera la identificación, no llegando a algo totalmente preciso sino a algo cercano que pueda acelerar este proceso y ayudar al profesional (Este sería algo problemático, ya que me tocaría pedir acceso a estas bases de datos).\n",
    "\n",
    "[Ejemplo de muestras de un herbario y de como se visualizarían en las fotos de la empresa](http://www.biovirtual.unal.edu.co/es/colecciones/detail/3681/)"
   ]
  },
  {
   "cell_type": "markdown",
   "metadata": {},
   "source": [
    "Adicionalmente, tengo algunas preguntas, principalmente algunas metodología que se utilizan actualmente en el ambito de mi trabajo para el modelamiento de nicho, ya que se utilizan procedimientos de regresión (algoritmos GAM y GLM) y de Máxima entropía (MaxEnt - su algoritmo se basa en la distribuciónde Gibbs). ¿Estos procesos se pueden mejorar con lo visto en el diplomado?, conociendo que en ocasiones no se tienen muchos datos de entrada. Así mismo, ¿cómo se puede evitar un posible sobreajuste por medio de redes neuronales?."
   ]
  },
  {
   "cell_type": "markdown",
   "metadata": {},
   "source": [
    "Muchas gracias por su atención y si es posible me gustaría que me dieran recomendaciones de investigación para los dos proyectos que no se puedan realizar en el diplomado. "
   ]
  },
  {
   "cell_type": "markdown",
   "metadata": {},
   "source": []
  },
  {
   "cell_type": "markdown",
   "metadata": {},
   "source": []
  },
  {
   "cell_type": "code",
   "execution_count": null,
   "metadata": {},
   "outputs": [],
   "source": []
  }
 ],
 "metadata": {
  "kernelspec": {
   "display_name": "Python 3",
   "language": "python",
   "name": "python3"
  },
  "language_info": {
   "codemirror_mode": {
    "name": "ipython",
    "version": 3
   },
   "file_extension": ".py",
   "mimetype": "text/x-python",
   "name": "python",
   "nbconvert_exporter": "python",
   "pygments_lexer": "ipython3",
   "version": "3.8.3"
  }
 },
 "nbformat": 4,
 "nbformat_minor": 4
}
